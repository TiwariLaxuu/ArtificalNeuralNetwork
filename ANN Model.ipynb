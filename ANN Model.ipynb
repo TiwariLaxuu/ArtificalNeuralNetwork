{
 "cells": [
  {
   "cell_type": "code",
   "execution_count": 2,
   "metadata": {},
   "outputs": [],
   "source": [
    "# Importing the libraries\n",
    "import numpy as np\n",
    "import matplotlib.pyplot as plt\n",
    "import pandas as pd"
   ]
  },
  {
   "cell_type": "code",
   "execution_count": 3,
   "metadata": {},
   "outputs": [],
   "source": [
    "# Importing the dataset\n",
    "dataset = pd.read_csv('Churn_Modelling.csv')\n",
    "X = dataset.iloc[:, 3:13].values\n",
    "y = dataset.iloc[:, 13].values"
   ]
  },
  {
   "cell_type": "code",
   "execution_count": 4,
   "metadata": {},
   "outputs": [
    {
     "data": {
      "text/html": [
       "<div>\n",
       "<style scoped>\n",
       "    .dataframe tbody tr th:only-of-type {\n",
       "        vertical-align: middle;\n",
       "    }\n",
       "\n",
       "    .dataframe tbody tr th {\n",
       "        vertical-align: top;\n",
       "    }\n",
       "\n",
       "    .dataframe thead th {\n",
       "        text-align: right;\n",
       "    }\n",
       "</style>\n",
       "<table border=\"1\" class=\"dataframe\">\n",
       "  <thead>\n",
       "    <tr style=\"text-align: right;\">\n",
       "      <th></th>\n",
       "      <th>RowNumber</th>\n",
       "      <th>CustomerId</th>\n",
       "      <th>Surname</th>\n",
       "      <th>CreditScore</th>\n",
       "      <th>Geography</th>\n",
       "      <th>Gender</th>\n",
       "      <th>Age</th>\n",
       "      <th>Tenure</th>\n",
       "      <th>Balance</th>\n",
       "      <th>NumOfProducts</th>\n",
       "      <th>HasCrCard</th>\n",
       "      <th>IsActiveMember</th>\n",
       "      <th>EstimatedSalary</th>\n",
       "      <th>Exited</th>\n",
       "    </tr>\n",
       "  </thead>\n",
       "  <tbody>\n",
       "    <tr>\n",
       "      <th>0</th>\n",
       "      <td>1</td>\n",
       "      <td>15634602</td>\n",
       "      <td>Hargrave</td>\n",
       "      <td>619</td>\n",
       "      <td>France</td>\n",
       "      <td>Female</td>\n",
       "      <td>42</td>\n",
       "      <td>2</td>\n",
       "      <td>0.00</td>\n",
       "      <td>1</td>\n",
       "      <td>1</td>\n",
       "      <td>1</td>\n",
       "      <td>101348.88</td>\n",
       "      <td>1</td>\n",
       "    </tr>\n",
       "    <tr>\n",
       "      <th>1</th>\n",
       "      <td>2</td>\n",
       "      <td>15647311</td>\n",
       "      <td>Hill</td>\n",
       "      <td>608</td>\n",
       "      <td>Spain</td>\n",
       "      <td>Female</td>\n",
       "      <td>41</td>\n",
       "      <td>1</td>\n",
       "      <td>83807.86</td>\n",
       "      <td>1</td>\n",
       "      <td>0</td>\n",
       "      <td>1</td>\n",
       "      <td>112542.58</td>\n",
       "      <td>0</td>\n",
       "    </tr>\n",
       "    <tr>\n",
       "      <th>2</th>\n",
       "      <td>3</td>\n",
       "      <td>15619304</td>\n",
       "      <td>Onio</td>\n",
       "      <td>502</td>\n",
       "      <td>France</td>\n",
       "      <td>Female</td>\n",
       "      <td>42</td>\n",
       "      <td>8</td>\n",
       "      <td>159660.80</td>\n",
       "      <td>3</td>\n",
       "      <td>1</td>\n",
       "      <td>0</td>\n",
       "      <td>113931.57</td>\n",
       "      <td>1</td>\n",
       "    </tr>\n",
       "    <tr>\n",
       "      <th>3</th>\n",
       "      <td>4</td>\n",
       "      <td>15701354</td>\n",
       "      <td>Boni</td>\n",
       "      <td>699</td>\n",
       "      <td>France</td>\n",
       "      <td>Female</td>\n",
       "      <td>39</td>\n",
       "      <td>1</td>\n",
       "      <td>0.00</td>\n",
       "      <td>2</td>\n",
       "      <td>0</td>\n",
       "      <td>0</td>\n",
       "      <td>93826.63</td>\n",
       "      <td>0</td>\n",
       "    </tr>\n",
       "    <tr>\n",
       "      <th>4</th>\n",
       "      <td>5</td>\n",
       "      <td>15737888</td>\n",
       "      <td>Mitchell</td>\n",
       "      <td>850</td>\n",
       "      <td>Spain</td>\n",
       "      <td>Female</td>\n",
       "      <td>43</td>\n",
       "      <td>2</td>\n",
       "      <td>125510.82</td>\n",
       "      <td>1</td>\n",
       "      <td>1</td>\n",
       "      <td>1</td>\n",
       "      <td>79084.10</td>\n",
       "      <td>0</td>\n",
       "    </tr>\n",
       "  </tbody>\n",
       "</table>\n",
       "</div>"
      ],
      "text/plain": [
       "   RowNumber  CustomerId   Surname  CreditScore Geography  Gender  Age  \\\n",
       "0          1    15634602  Hargrave          619    France  Female   42   \n",
       "1          2    15647311      Hill          608     Spain  Female   41   \n",
       "2          3    15619304      Onio          502    France  Female   42   \n",
       "3          4    15701354      Boni          699    France  Female   39   \n",
       "4          5    15737888  Mitchell          850     Spain  Female   43   \n",
       "\n",
       "   Tenure    Balance  NumOfProducts  HasCrCard  IsActiveMember  \\\n",
       "0       2       0.00              1          1               1   \n",
       "1       1   83807.86              1          0               1   \n",
       "2       8  159660.80              3          1               0   \n",
       "3       1       0.00              2          0               0   \n",
       "4       2  125510.82              1          1               1   \n",
       "\n",
       "   EstimatedSalary  Exited  \n",
       "0        101348.88       1  \n",
       "1        112542.58       0  \n",
       "2        113931.57       1  \n",
       "3         93826.63       0  \n",
       "4         79084.10       0  "
      ]
     },
     "execution_count": 4,
     "metadata": {},
     "output_type": "execute_result"
    }
   ],
   "source": [
    "dataset.head()"
   ]
  },
  {
   "cell_type": "code",
   "execution_count": 5,
   "metadata": {},
   "outputs": [],
   "source": [
    "# Encoding categorical data\n",
    "from sklearn.preprocessing import LabelEncoder, OneHotEncoder\n",
    "labelencoder_X_1 = LabelEncoder()\n",
    "X[:, 1] = labelencoder_X_1.fit_transform(X[:, 1])\n",
    "labelencoder_X_2 = LabelEncoder()\n",
    "X[:, 2] = labelencoder_X_2.fit_transform(X[:, 2])\n",
    "onehotencoder = OneHotEncoder(categories = 'auto')\n",
    "X = onehotencoder.fit_transform(X).toarray()\n",
    "X = X[:, 1:]"
   ]
  },
  {
   "cell_type": "code",
   "execution_count": 6,
   "metadata": {},
   "outputs": [
    {
     "data": {
      "text/plain": [
       "array([[0., 0., 0., ..., 0., 0., 0.],\n",
       "       [0., 0., 0., ..., 0., 0., 0.],\n",
       "       [0., 0., 0., ..., 0., 0., 0.],\n",
       "       ...,\n",
       "       [0., 0., 0., ..., 0., 0., 0.],\n",
       "       [0., 0., 0., ..., 0., 0., 0.],\n",
       "       [0., 0., 0., ..., 0., 0., 0.]])"
      ]
     },
     "execution_count": 6,
     "metadata": {},
     "output_type": "execute_result"
    }
   ],
   "source": [
    "X"
   ]
  },
  {
   "cell_type": "code",
   "execution_count": 26,
   "metadata": {},
   "outputs": [],
   "source": [
    "# Splitting the dataset into the Training set and Test set\n",
    "from sklearn.model_selection import train_test_split\n",
    "X_train, X_test, y_train, y_test = train_test_split(X, y, test_size = 0.2, random_state = 42)"
   ]
  },
  {
   "cell_type": "code",
   "execution_count": 27,
   "metadata": {},
   "outputs": [],
   "source": [
    "# Feature Scaling\n",
    "from sklearn.preprocessing import StandardScaler\n",
    "sc = StandardScaler()\n",
    "X_train = sc.fit_transform(X_train)\n",
    "X_test = sc.transform(X_test)"
   ]
  },
  {
   "cell_type": "code",
   "execution_count": 36,
   "metadata": {},
   "outputs": [
    {
     "data": {
      "text/plain": [
       "16934"
      ]
     },
     "execution_count": 36,
     "metadata": {},
     "output_type": "execute_result"
    }
   ],
   "source": [
    "X_train.shape[1]"
   ]
  },
  {
   "cell_type": "code",
   "execution_count": 9,
   "metadata": {},
   "outputs": [],
   "source": [
    "import tensorflow as tf"
   ]
  },
  {
   "cell_type": "code",
   "execution_count": 10,
   "metadata": {},
   "outputs": [],
   "source": [
    "# Importing the Keras libraries and packages\n",
    "import tensorflow.python.keras as background"
   ]
  },
  {
   "cell_type": "code",
   "execution_count": 12,
   "metadata": {},
   "outputs": [],
   "source": [
    "from tensorflow.keras import backend as K"
   ]
  },
  {
   "cell_type": "code",
   "execution_count": 13,
   "metadata": {},
   "outputs": [],
   "source": [
    "from tensorflow.keras.models import Sequential\n",
    "from tensorflow.keras.layers import Dense"
   ]
  },
  {
   "cell_type": "code",
   "execution_count": 28,
   "metadata": {},
   "outputs": [],
   "source": [
    "# Initialising the ANN\n",
    "classifier = Sequential()"
   ]
  },
  {
   "cell_type": "code",
   "execution_count": 29,
   "metadata": {},
   "outputs": [],
   "source": [
    "# Adding the input layer and the first hidden layer\n",
    "#classifier.add(Dense(6, init = 'uniform', activation = 'relu', input_dim = 11))\n",
    "classifier.add(Dense(6, activation='relu', kernel_initializer='glorot_uniform', input_dim=X_train.shape[1]))"
   ]
  },
  {
   "cell_type": "code",
   "execution_count": 30,
   "metadata": {},
   "outputs": [],
   "source": [
    "# Adding the second hidden layer\n",
    "classifier.add(Dense(6, activation = 'relu', kernel_initializer='glorot_uniform'))"
   ]
  },
  {
   "cell_type": "code",
   "execution_count": 31,
   "metadata": {},
   "outputs": [],
   "source": [
    "# Adding the output layer\n",
    "classifier.add(Dense(1, activation = 'sigmoid', kernel_initializer='glorot_uniform'))\n"
   ]
  },
  {
   "cell_type": "code",
   "execution_count": 32,
   "metadata": {},
   "outputs": [],
   "source": [
    "# Compiling the ANN\n",
    "classifier.compile(optimizer = 'adam', loss = 'binary_crossentropy', metrics = ['accuracy'])\n"
   ]
  },
  {
   "cell_type": "code",
   "execution_count": 35,
   "metadata": {},
   "outputs": [
    {
     "data": {
      "text/plain": [
       "135472000"
      ]
     },
     "execution_count": 35,
     "metadata": {},
     "output_type": "execute_result"
    }
   ],
   "source": [
    "X_train.size"
   ]
  },
  {
   "cell_type": "code",
   "execution_count": 34,
   "metadata": {},
   "outputs": [
    {
     "name": "stdout",
     "output_type": "stream",
     "text": [
      "Model: \"sequential_1\"\n",
      "_________________________________________________________________\n",
      "Layer (type)                 Output Shape              Param #   \n",
      "=================================================================\n",
      "dense_6 (Dense)              (None, 6)                 101610    \n",
      "_________________________________________________________________\n",
      "dense_7 (Dense)              (None, 6)                 42        \n",
      "_________________________________________________________________\n",
      "dense_8 (Dense)              (None, 1)                 7         \n",
      "=================================================================\n",
      "Total params: 101,659\n",
      "Trainable params: 101,659\n",
      "Non-trainable params: 0\n",
      "_________________________________________________________________\n"
     ]
    }
   ],
   "source": [
    "classifier.summary()"
   ]
  },
  {
   "cell_type": "code",
   "execution_count": 37,
   "metadata": {},
   "outputs": [
    {
     "name": "stdout",
     "output_type": "stream",
     "text": [
      "Train on 8000 samples\n",
      "Epoch 1/100\n",
      "8000/8000 [==============================] - 51s 6ms/sample - loss: 0.6507 - acc: 0.7075\n",
      "Epoch 2/100\n",
      "8000/8000 [==============================] - 5s 656us/sample - loss: 0.3640 - acc: 0.8342\n",
      "Epoch 3/100\n",
      "8000/8000 [==============================] - 5s 674us/sample - loss: 0.1564 - acc: 0.9072\n",
      "Epoch 4/100\n",
      "  10/8000 [..............................] - ETA: 0s - loss: 0.0762 - acc: 1.0000WARNING:tensorflow:Method (on_train_batch_end) is slow compared to the batch update (0.407596). Check your callbacks.\n",
      "8000/8000 [==============================] - 7s 832us/sample - loss: 0.0800 - acc: 0.9659\n",
      "Epoch 5/100\n",
      "8000/8000 [==============================] - 6s 775us/sample - loss: 0.0593 - acc: 0.9795\n",
      "Epoch 6/100\n",
      "8000/8000 [==============================] - 6s 702us/sample - loss: 0.0509 - acc: 0.9812\n",
      "Epoch 7/100\n",
      "8000/8000 [==============================] - 7s 854us/sample - loss: 0.0461 - acc: 0.9826\n",
      "Epoch 8/100\n",
      "8000/8000 [==============================] - 6s 698us/sample - loss: 0.0385 - acc: 0.9870\n",
      "Epoch 9/100\n",
      "8000/8000 [==============================] - 5s 620us/sample - loss: 0.0336 - acc: 0.9887\n",
      "Epoch 10/100\n",
      "8000/8000 [==============================] - 5s 592us/sample - loss: 0.0313 - acc: 0.9896\n",
      "Epoch 11/100\n",
      "8000/8000 [==============================] - 6s 691us/sample - loss: 0.0299 - acc: 0.9898s - loss: 0.\n",
      "Epoch 12/100\n",
      "8000/8000 [==============================] - 6s 726us/sample - loss: 0.0305 - acc: 0.9894\n",
      "Epoch 13/100\n",
      "8000/8000 [==============================] - 6s 783us/sample - loss: 0.0277 - acc: 0.9910\n",
      "Epoch 14/100\n",
      "8000/8000 [==============================] - 5s 590us/sample - loss: 0.0269 - acc: 0.9912\n",
      "Epoch 15/100\n",
      "8000/8000 [==============================] - 5s 607us/sample - loss: 0.0262 - acc: 0.9915\n",
      "Epoch 16/100\n",
      "8000/8000 [==============================] - 5s 636us/sample - loss: 0.0262 - acc: 0.9915\n",
      "Epoch 17/100\n",
      "8000/8000 [==============================] - 5s 678us/sample - loss: 0.0261 - acc: 0.9915\n",
      "Epoch 18/100\n",
      "8000/8000 [==============================] - 5s 637us/sample - loss: 0.0259 - acc: 0.9915s - los\n",
      "Epoch 19/100\n",
      "8000/8000 [==============================] - 6s 688us/sample - loss: 0.0267 - acc: 0.9915\n",
      "Epoch 20/100\n",
      "8000/8000 [==============================] - 5s 636us/sample - loss: 0.0261 - acc: 0.9915\n",
      "Epoch 21/100\n",
      "8000/8000 [==============================] - 5s 592us/sample - loss: 0.0254 - acc: 0.9919\n",
      "Epoch 22/100\n",
      "8000/8000 [==============================] - 6s 757us/sample - loss: 0.0247 - acc: 0.9923\n",
      "Epoch 23/100\n",
      "8000/8000 [==============================] - 6s 696us/sample - loss: 0.0244 - acc: 0.9923\n",
      "Epoch 24/100\n",
      "8000/8000 [==============================] - 5s 683us/sample - loss: 0.0242 - acc: 0.9924\n",
      "Epoch 25/100\n",
      "8000/8000 [==============================] - 5s 660us/sample - loss: 0.0242 - acc: 0.9924\n",
      "Epoch 26/100\n",
      "8000/8000 [==============================] - 6s 762us/sample - loss: 0.0242 - acc: 0.9924\n",
      "Epoch 27/100\n",
      "8000/8000 [==============================] - 6s 749us/sample - loss: 0.0266 - acc: 0.9911\n",
      "Epoch 28/100\n",
      "8000/8000 [==============================] - 5s 651us/sample - loss: 0.0233 - acc: 0.9925\n",
      "Epoch 29/100\n",
      "8000/8000 [==============================] - 5s 669us/sample - loss: 0.0226 - acc: 0.9931\n",
      "Epoch 30/100\n",
      "8000/8000 [==============================] - 7s 885us/sample - loss: 0.0219 - acc: 0.9934\n",
      "Epoch 31/100\n",
      "8000/8000 [==============================] - 5s 601us/sample - loss: 0.0216 - acc: 0.9935\n",
      "Epoch 32/100\n",
      "8000/8000 [==============================] - 5s 576us/sample - loss: 0.0220 - acc: 0.9934\n",
      "Epoch 33/100\n",
      "8000/8000 [==============================] - 7s 881us/sample - loss: 0.0224 - acc: 0.9933\n",
      "Epoch 34/100\n",
      "8000/8000 [==============================] - 7s 853us/sample - loss: 0.0218 - acc: 0.9935\n",
      "Epoch 35/100\n",
      "8000/8000 [==============================] - 7s 853us/sample - loss: 0.0213 - acc: 0.9936\n",
      "Epoch 36/100\n",
      "8000/8000 [==============================] - 6s 751us/sample - loss: 0.0214 - acc: 0.9937\n",
      "Epoch 37/100\n",
      "8000/8000 [==============================] - 6s 689us/sample - loss: 0.0208 - acc: 0.9939\n",
      "Epoch 38/100\n",
      "8000/8000 [==============================] - 6s 734us/sample - loss: 0.0204 - acc: 0.9940\n",
      "Epoch 39/100\n",
      "8000/8000 [==============================] - 6s 728us/sample - loss: 0.0204 - acc: 0.9940\n",
      "Epoch 40/100\n",
      "8000/8000 [==============================] - 8s 967us/sample - loss: 0.0204 - acc: 0.9940s - loss: 0.0209 - acc: -\n",
      "Epoch 41/100\n",
      "8000/8000 [==============================] - 6s 738us/sample - loss: 0.0204 - acc: 0.9940\n",
      "Epoch 42/100\n",
      "8000/8000 [==============================] - 6s 728us/sample - loss: 0.0204 - acc: 0.9940\n",
      "Epoch 43/100\n",
      "8000/8000 [==============================] - 5s 623us/sample - loss: 0.0207 - acc: 0.9940\n",
      "Epoch 44/100\n",
      "8000/8000 [==============================] - 5s 640us/sample - loss: 0.0205 - acc: 0.9939\n",
      "Epoch 45/100\n",
      "8000/8000 [==============================] - 5s 606us/sample - loss: 0.0201 - acc: 0.9940s - loss: 0.0210 -\n",
      "Epoch 46/100\n",
      "8000/8000 [==============================] - 5s 597us/sample - loss: 0.0204 - acc: 0.9940\n",
      "Epoch 47/100\n",
      "8000/8000 [==============================] - 5s 660us/sample - loss: 0.0201 - acc: 0.9941\n",
      "Epoch 48/100\n",
      "8000/8000 [==============================] - 6s 725us/sample - loss: 0.0200 - acc: 0.9942\n",
      "Epoch 49/100\n",
      "8000/8000 [==============================] - 6s 701us/sample - loss: 0.0182 - acc: 0.9948\n",
      "Epoch 50/100\n",
      "8000/8000 [==============================] - 6s 789us/sample - loss: 0.0178 - acc: 0.9950\n",
      "Epoch 51/100\n",
      "8000/8000 [==============================] - 6s 766us/sample - loss: 0.0175 - acc: 0.9951\n",
      "Epoch 52/100\n",
      "8000/8000 [==============================] - 6s 771us/sample - loss: 0.0179 - acc: 0.9949\n",
      "Epoch 53/100\n",
      "8000/8000 [==============================] - 7s 861us/sample - loss: 0.0174 - acc: 0.9951\n",
      "Epoch 54/100\n",
      "8000/8000 [==============================] - 7s 868us/sample - loss: 0.0168 - acc: 0.9954\n",
      "Epoch 55/100\n",
      "8000/8000 [==============================] - 5s 642us/sample - loss: 0.0167 - acc: 0.9954\n",
      "Epoch 56/100\n",
      "8000/8000 [==============================] - 5s 583us/sample - loss: 0.0167 - acc: 0.9954\n",
      "Epoch 57/100\n",
      "8000/8000 [==============================] - 5s 635us/sample - loss: 0.0167 - acc: 0.9954\n",
      "Epoch 58/100\n",
      "8000/8000 [==============================] - 5s 652us/sample - loss: 0.0167 - acc: 0.9954\n",
      "Epoch 59/100\n",
      "8000/8000 [==============================] - 6s 712us/sample - loss: 0.0167 - acc: 0.9954\n",
      "Epoch 60/100\n",
      "8000/8000 [==============================] - 6s 727us/sample - loss: 0.0167 - acc: 0.9954\n",
      "Epoch 61/100\n",
      "8000/8000 [==============================] - 7s 854us/sample - loss: 0.0167 - acc: 0.9954\n",
      "Epoch 62/100\n",
      "8000/8000 [==============================] - 7s 888us/sample - loss: 0.0167 - acc: 0.9954s - - ETA: 6s - loss: 0.\n",
      "Epoch 63/100\n",
      "8000/8000 [==============================] - 6s 769us/sample - loss: 0.0167 - acc: 0.9954\n",
      "Epoch 64/100\n",
      "8000/8000 [==============================] - 6s 747us/sample - loss: 0.0167 - acc: 0.9954\n",
      "Epoch 65/100\n",
      "8000/8000 [==============================] - 6s 712us/sample - loss: 0.0167 - acc: 0.9954\n",
      "Epoch 66/100\n",
      "8000/8000 [==============================] - 6s 788us/sample - loss: 0.0167 - acc: 0.9954\n",
      "Epoch 67/100\n",
      "8000/8000 [==============================] - 6s 746us/sample - loss: 0.0167 - acc: 0.9954\n",
      "Epoch 68/100\n",
      "8000/8000 [==============================] - 7s 859us/sample - loss: 0.0167 - acc: 0.9954\n",
      "Epoch 69/100\n",
      "8000/8000 [==============================] - 5s 658us/sample - loss: 0.0167 - acc: 0.9954\n",
      "Epoch 70/100\n",
      "8000/8000 [==============================] - 5s 633us/sample - loss: 0.0167 - acc: 0.9954\n",
      "Epoch 71/100\n",
      "8000/8000 [==============================] - 5s 602us/sample - loss: 0.0167 - acc: 0.9954\n",
      "Epoch 72/100\n",
      "8000/8000 [==============================] - 5s 646us/sample - loss: 0.0167 - acc: 0.9954\n",
      "Epoch 73/100\n",
      "8000/8000 [==============================] - 7s 814us/sample - loss: 0.0167 - acc: 0.9954\n",
      "Epoch 74/100\n",
      "8000/8000 [==============================] - 5s 678us/sample - loss: 0.0167 - acc: 0.9954\n",
      "Epoch 75/100\n",
      "8000/8000 [==============================] - 6s 737us/sample - loss: 0.0174 - acc: 0.9954\n",
      "Epoch 76/100\n",
      "8000/8000 [==============================] - 6s 782us/sample - loss: 0.0169 - acc: 0.9954\n",
      "Epoch 77/100\n",
      "8000/8000 [==============================] - 6s 771us/sample - loss: 0.0168 - acc: 0.9954\n",
      "Epoch 78/100\n",
      "8000/8000 [==============================] - 5s 610us/sample - loss: 0.0169 - acc: 0.9954\n",
      "Epoch 79/100\n",
      "8000/8000 [==============================] - 6s 781us/sample - loss: 0.0169 - acc: 0.9954\n",
      "Epoch 80/100\n",
      "8000/8000 [==============================] - 5s 662us/sample - loss: 0.0169 - acc: 0.9954\n",
      "Epoch 81/100\n",
      "8000/8000 [==============================] - 4s 549us/sample - loss: 0.0169 - acc: 0.9954\n",
      "Epoch 82/100\n",
      "8000/8000 [==============================] - 5s 680us/sample - loss: 0.0169 - acc: 0.9954\n",
      "Epoch 83/100\n",
      "8000/8000 [==============================] - 5s 600us/sample - loss: 0.0169 - acc: 0.9954\n",
      "Epoch 84/100\n",
      "8000/8000 [==============================] - 5s 644us/sample - loss: 0.0169 - acc: 0.9954\n",
      "Epoch 85/100\n",
      "8000/8000 [==============================] - 6s 751us/sample - loss: 0.0169 - acc: 0.9954\n",
      "Epoch 86/100\n",
      "8000/8000 [==============================] - 7s 816us/sample - loss: 0.0169 - acc: 0.9954\n",
      "Epoch 87/100\n",
      "8000/8000 [==============================] - 6s 801us/sample - loss: 0.0169 - acc: 0.9954\n",
      "Epoch 88/100\n",
      "8000/8000 [==============================] - 6s 770us/sample - loss: 0.0169 - acc: 0.9954\n",
      "Epoch 89/100\n",
      "8000/8000 [==============================] - 5s 634us/sample - loss: 0.0169 - acc: 0.9954\n",
      "Epoch 90/100\n",
      "8000/8000 [==============================] - 5s 573us/sample - loss: 0.0169 - acc: 0.9954\n",
      "Epoch 91/100\n",
      "8000/8000 [==============================] - 5s 661us/sample - loss: 0.0169 - acc: 0.9954\n",
      "Epoch 92/100\n",
      "8000/8000 [==============================] - 6s 758us/sample - loss: 0.0169 - acc: 0.9954\n",
      "Epoch 93/100\n",
      "8000/8000 [==============================] - 7s 835us/sample - loss: 0.0169 - acc: 0.9954\n",
      "Epoch 94/100\n",
      "8000/8000 [==============================] - 7s 886us/sample - loss: 0.0169 - acc: 0.9954s - loss: 0.0165 - acc: 0\n",
      "Epoch 95/100\n",
      "8000/8000 [==============================] - 7s 827us/sample - loss: 0.0169 - acc: 0.9954\n",
      "Epoch 96/100\n",
      "8000/8000 [==============================] - 5s 576us/sample - loss: 0.0169 - acc: 0.9954\n",
      "Epoch 97/100\n",
      "8000/8000 [==============================] - 5s 584us/sample - loss: 0.0169 - acc: 0.9954\n",
      "Epoch 98/100\n",
      "8000/8000 [==============================] - 6s 774us/sample - loss: 0.0169 - acc: 0.9954\n",
      "Epoch 99/100\n",
      "8000/8000 [==============================] - 5s 663us/sample - loss: 0.0169 - acc: 0.9954\n",
      "Epoch 100/100\n",
      "8000/8000 [==============================] - 6s 705us/sample - loss: 0.0169 - acc: 0.9954\n"
     ]
    },
    {
     "data": {
      "text/plain": [
       "<tensorflow.python.keras.callbacks.History at 0x1a0ffb9aba8>"
      ]
     },
     "execution_count": 37,
     "metadata": {},
     "output_type": "execute_result"
    }
   ],
   "source": [
    "# Fitting the ANN to the Training set\n",
    "classifier.fit(X_train, y_train, batch_size = 10, epochs = 100)"
   ]
  },
  {
   "cell_type": "code",
   "execution_count": 38,
   "metadata": {},
   "outputs": [],
   "source": [
    "# Predicting the Test set results\n",
    "y_pred = classifier.predict(X_test)\n",
    "y_pred = (y_pred > 0.5)"
   ]
  },
  {
   "cell_type": "code",
   "execution_count": 40,
   "metadata": {},
   "outputs": [
    {
     "data": {
      "text/plain": [
       "array([[1520,   87],\n",
       "       [ 280,  113]], dtype=int64)"
      ]
     },
     "execution_count": 40,
     "metadata": {},
     "output_type": "execute_result"
    }
   ],
   "source": [
    "# Making the Confusion Matrix\n",
    "from sklearn.metrics import confusion_matrix\n",
    "cm = confusion_matrix(y_test, y_pred)\n",
    "cm"
   ]
  },
  {
   "cell_type": "code",
   "execution_count": 41,
   "metadata": {},
   "outputs": [
    {
     "data": {
      "text/plain": [
       "0.8165"
      ]
     },
     "execution_count": 41,
     "metadata": {},
     "output_type": "execute_result"
    }
   ],
   "source": [
    "from sklearn.metrics import accuracy_score\n",
    "accuracy_score(y_test, y_pred)"
   ]
  }
 ],
 "metadata": {
  "kernelspec": {
   "display_name": "Python 3",
   "language": "python",
   "name": "python3"
  },
  "language_info": {
   "codemirror_mode": {
    "name": "ipython",
    "version": 3
   },
   "file_extension": ".py",
   "mimetype": "text/x-python",
   "name": "python",
   "nbconvert_exporter": "python",
   "pygments_lexer": "ipython3",
   "version": "3.7.3"
  }
 },
 "nbformat": 4,
 "nbformat_minor": 2
}
